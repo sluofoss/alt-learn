{
 "cells": [
  {
   "cell_type": "code",
   "execution_count": 1,
   "metadata": {},
   "outputs": [],
   "source": [
    "import pandas as pd \n",
    "import polars as pl\n",
    "from datetime import timedelta, datetime\n"
   ]
  },
  {
   "cell_type": "code",
   "execution_count": 2,
   "metadata": {},
   "outputs": [],
   "source": [
    "ds_pd = pd.date_range(start='2010/01/01', periods=365*30*24*60, freq = 'min').astype(str).to_series()\n",
    "ds_pd[::2] = None\n"
   ]
  },
  {
   "cell_type": "code",
   "execution_count": 3,
   "metadata": {},
   "outputs": [
    {
     "data": {
      "text/plain": [
       "2010-01-01 00:00:00                   None\n",
       "2010-01-01 00:01:00    2010-01-01 00:01:00\n",
       "2010-01-01 00:02:00                   None\n",
       "2010-01-01 00:03:00    2010-01-01 00:03:00\n",
       "2010-01-01 00:04:00                   None\n",
       "                              ...         \n",
       "2039-12-24 23:55:00    2039-12-24 23:55:00\n",
       "2039-12-24 23:56:00                   None\n",
       "2039-12-24 23:57:00    2039-12-24 23:57:00\n",
       "2039-12-24 23:58:00                   None\n",
       "2039-12-24 23:59:00    2039-12-24 23:59:00\n",
       "Length: 15768000, dtype: object"
      ]
     },
     "execution_count": 3,
     "metadata": {},
     "output_type": "execute_result"
    }
   ],
   "source": [
    "ds_pd"
   ]
  },
  {
   "cell_type": "code",
   "execution_count": 4,
   "metadata": {},
   "outputs": [],
   "source": [
    "ds_pl = pl.Series(ds_pd)"
   ]
  },
  {
   "cell_type": "code",
   "execution_count": 56,
   "metadata": {},
   "outputs": [
    {
     "ename": "AttributeError",
     "evalue": "'Series' object has no attribute 'where'",
     "output_type": "error",
     "traceback": [
      "\u001b[0;31m---------------------------------------------------------------------------\u001b[0m",
      "\u001b[0;31mAttributeError\u001b[0m                            Traceback (most recent call last)",
      "Cell \u001b[0;32mIn[56], line 7\u001b[0m\n\u001b[1;32m      4\u001b[0m mask \u001b[38;5;241m=\u001b[39m pl\u001b[38;5;241m.\u001b[39marange(\u001b[38;5;241m0\u001b[39m, ds_pl\u001b[38;5;241m.\u001b[39mlen()) \u001b[38;5;241m%\u001b[39m \u001b[38;5;241m2\u001b[39m \u001b[38;5;241m==\u001b[39m \u001b[38;5;241m1\u001b[39m\n\u001b[1;32m      6\u001b[0m \u001b[38;5;66;03m# Create a new Series with None in every second row\u001b[39;00m\n\u001b[0;32m----> 7\u001b[0m s_modified \u001b[38;5;241m=\u001b[39m \u001b[43mds_pl\u001b[49m\u001b[38;5;241;43m.\u001b[39;49m\u001b[43mwhere\u001b[49m(\u001b[38;5;241m~\u001b[39mmask, \u001b[38;5;28;01mNone\u001b[39;00m)\n",
      "\u001b[0;31mAttributeError\u001b[0m: 'Series' object has no attribute 'where'"
     ]
    }
   ],
   "source": [
    "ds_pl =pl.datetime_range(start=datetime(2010,1,1), end=datetime(2039,12,25), interval = '1m', closed = 'left', eager=True).dt.to_string(\"%Y-%m-%d %H:%M:%S\")\n",
    "\n",
    "# Create a mask for every second row\n",
    "mask = pl.arange(0, ds_pl.len()) % 2 == 1\n",
    "\n",
    "# Create a new Series with None in every second row\n",
    "s_modified = ds_pl.where(~mask, None)"
   ]
  },
  {
   "cell_type": "code",
   "execution_count": 44,
   "metadata": {},
   "outputs": [
    {
     "data": {
      "text/html": [
       "<div><style>\n",
       ".dataframe > thead > tr,\n",
       ".dataframe > tbody > tr {\n",
       "  text-align: right;\n",
       "  white-space: pre-wrap;\n",
       "}\n",
       "</style>\n",
       "<small>shape: (15_768_000,)</small><table border=\"1\" class=\"dataframe\"><thead><tr><th>literal</th></tr><tr><td>str</td></tr></thead><tbody><tr><td>&quot;2010-01-01 00:00:00&quot;</td></tr><tr><td>&quot;2010-01-01 00:01:00&quot;</td></tr><tr><td>&quot;2010-01-01 00:02:00&quot;</td></tr><tr><td>&quot;2010-01-01 00:03:00&quot;</td></tr><tr><td>&quot;2010-01-01 00:04:00&quot;</td></tr><tr><td>&hellip;</td></tr><tr><td>&quot;2039-12-24 23:55:00&quot;</td></tr><tr><td>&quot;2039-12-24 23:56:00&quot;</td></tr><tr><td>&quot;2039-12-24 23:57:00&quot;</td></tr><tr><td>&quot;2039-12-24 23:58:00&quot;</td></tr><tr><td>&quot;2039-12-24 23:59:00&quot;</td></tr></tbody></table></div>"
      ],
      "text/plain": [
       "shape: (15_768_000,)\n",
       "Series: 'literal' [str]\n",
       "[\n",
       "\t\"2010-01-01 00:00:00\"\n",
       "\t\"2010-01-01 00:01:00\"\n",
       "\t\"2010-01-01 00:02:00\"\n",
       "\t\"2010-01-01 00:03:00\"\n",
       "\t\"2010-01-01 00:04:00\"\n",
       "\t…\n",
       "\t\"2039-12-24 23:55:00\"\n",
       "\t\"2039-12-24 23:56:00\"\n",
       "\t\"2039-12-24 23:57:00\"\n",
       "\t\"2039-12-24 23:58:00\"\n",
       "\t\"2039-12-24 23:59:00\"\n",
       "]"
      ]
     },
     "execution_count": 44,
     "metadata": {},
     "output_type": "execute_result"
    }
   ],
   "source": [
    "ds_pl"
   ]
  },
  {
   "cell_type": "code",
   "execution_count": 5,
   "metadata": {},
   "outputs": [],
   "source": [
    "x = pd.to_datetime(ds_pd)"
   ]
  },
  {
   "cell_type": "code",
   "execution_count": 6,
   "metadata": {},
   "outputs": [],
   "source": [
    "y = ds_pl.str.to_datetime(\"%Y-%m-%d %H:%M:%S\")"
   ]
  },
  {
   "cell_type": "code",
   "execution_count": 10,
   "metadata": {},
   "outputs": [
    {
     "data": {
      "text/html": [
       "<div><style>\n",
       ".dataframe > thead > tr,\n",
       ".dataframe > tbody > tr {\n",
       "  text-align: right;\n",
       "  white-space: pre-wrap;\n",
       "}\n",
       "</style>\n",
       "<small>shape: (15_768_000,)</small><table border=\"1\" class=\"dataframe\"><thead><tr><th></th></tr><tr><td>datetime[μs]</td></tr></thead><tbody><tr><td>null</td></tr><tr><td>2010-01-01 00:01:00</td></tr><tr><td>null</td></tr><tr><td>2010-01-01 00:03:00</td></tr><tr><td>null</td></tr><tr><td>&hellip;</td></tr><tr><td>2039-12-24 23:55:00</td></tr><tr><td>null</td></tr><tr><td>2039-12-24 23:57:00</td></tr><tr><td>null</td></tr><tr><td>2039-12-24 23:59:00</td></tr></tbody></table></div>"
      ],
      "text/plain": [
       "shape: (15_768_000,)\n",
       "Series: '' [datetime[μs]]\n",
       "[\n",
       "\tnull\n",
       "\t2010-01-01 00:01:00\n",
       "\tnull\n",
       "\t2010-01-01 00:03:00\n",
       "\tnull\n",
       "\t…\n",
       "\t2039-12-24 23:55:00\n",
       "\tnull\n",
       "\t2039-12-24 23:57:00\n",
       "\tnull\n",
       "\t2039-12-24 23:59:00\n",
       "]"
      ]
     },
     "execution_count": 10,
     "metadata": {},
     "output_type": "execute_result"
    }
   ],
   "source": [
    "y"
   ]
  }
 ],
 "metadata": {
  "kernelspec": {
   "display_name": ".venv",
   "language": "python",
   "name": "python3"
  },
  "language_info": {
   "codemirror_mode": {
    "name": "ipython",
    "version": 3
   },
   "file_extension": ".py",
   "mimetype": "text/x-python",
   "name": "python",
   "nbconvert_exporter": "python",
   "pygments_lexer": "ipython3",
   "version": "3.12.5"
  }
 },
 "nbformat": 4,
 "nbformat_minor": 2
}
